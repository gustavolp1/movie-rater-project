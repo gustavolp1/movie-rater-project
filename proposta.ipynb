{
 "cells": [
  {
   "cell_type": "code",
   "execution_count": 77,
   "metadata": {},
   "outputs": [],
   "source": [
    "import numpy as np\n",
    "import matplotlib.pyplot as plt\n",
    "import matplotlib.image as mpimg\n",
    "import pandas as pd\n",
    "import random \n",
    "import copy\n",
    "from scipy.linalg import svd, diagsvd"
   ]
  },
  {
   "attachments": {},
   "cell_type": "markdown",
   "metadata": {},
   "source": [
    "# Projeto: O Desafio NetFlix\n",
    "Outros datasets: https://github.com/caserec/Datasets-for-Recommender-Systems\n",
    "\n",
    "Um problema que existe hoje em dia com as grandes empresas de streaming (Netflix, Spotify, etc.) é que elas têm um acervo de conteúdo muito grande, e os usuários tendem a gostar, cada um, de uma pequena parte desse acervo. Então, como poderíamos escolher quais filmes vão aparecer tela inicial do seu streaming?\n",
    "\n",
    "O objetivo deste projeto é fazer um sistema que toma essa decisão.\n",
    "\n",
    "## Quais dados temos à disposição?\n",
    "\n",
    "Neste projeto, trabalharemos com o [The Movies Dataset](https://www.kaggle.com/datasets/rounakbanik/the-movies-dataset), que tem, entre outras coisas, a avaliação de usuários em relação a filmes. Essa avaliação está na tabela `ratings.csv` - mas, opcionalmente, pode ser usada a `ratings_small.csv`, que tem somente um subconjunto desses dados."
   ]
  },
  {
   "cell_type": "code",
   "execution_count": 78,
   "metadata": {},
   "outputs": [
    {
     "data": {
      "text/html": [
       "<div>\n",
       "<style scoped>\n",
       "    .dataframe tbody tr th:only-of-type {\n",
       "        vertical-align: middle;\n",
       "    }\n",
       "\n",
       "    .dataframe tbody tr th {\n",
       "        vertical-align: top;\n",
       "    }\n",
       "\n",
       "    .dataframe thead th {\n",
       "        text-align: right;\n",
       "    }\n",
       "</style>\n",
       "<table border=\"1\" class=\"dataframe\">\n",
       "  <thead>\n",
       "    <tr style=\"text-align: right;\">\n",
       "      <th></th>\n",
       "      <th>userId</th>\n",
       "      <th>movieId</th>\n",
       "      <th>rating</th>\n",
       "      <th>timestamp</th>\n",
       "    </tr>\n",
       "  </thead>\n",
       "  <tbody>\n",
       "    <tr>\n",
       "      <th>0</th>\n",
       "      <td>1</td>\n",
       "      <td>31</td>\n",
       "      <td>2.5</td>\n",
       "      <td>1260759144</td>\n",
       "    </tr>\n",
       "    <tr>\n",
       "      <th>1</th>\n",
       "      <td>1</td>\n",
       "      <td>1029</td>\n",
       "      <td>3.0</td>\n",
       "      <td>1260759179</td>\n",
       "    </tr>\n",
       "  </tbody>\n",
       "</table>\n",
       "</div>"
      ],
      "text/plain": [
       "   userId  movieId  rating   timestamp\n",
       "0       1       31     2.5  1260759144\n",
       "1       1     1029     3.0  1260759179"
      ]
     },
     "execution_count": 78,
     "metadata": {},
     "output_type": "execute_result"
    }
   ],
   "source": [
    "import pandas as pd\n",
    "df = pd.read_csv('ratings_small.csv')\n",
    "df.head(2)"
   ]
  },
  {
   "cell_type": "code",
   "execution_count": 79,
   "metadata": {},
   "outputs": [
    {
     "data": {
      "text/plain": [
       "0         2.5\n",
       "1         3.0\n",
       "2         3.0\n",
       "3         2.0\n",
       "4         4.0\n",
       "         ... \n",
       "99999     2.5\n",
       "100000    4.0\n",
       "100001    4.0\n",
       "100002    2.5\n",
       "100003    3.5\n",
       "Name: rating, Length: 100004, dtype: float64"
      ]
     },
     "execution_count": 79,
     "metadata": {},
     "output_type": "execute_result"
    }
   ],
   "source": [
    "df[\"movieId\"] # filmes\n",
    "df[\"userId\"] # usuários\n",
    "df[\"rating\"] # ratings"
   ]
  },
  {
   "attachments": {},
   "cell_type": "markdown",
   "metadata": {},
   "source": [
    "Veja que esse dataframe pode facilmente ser transformado numa matriz $A$ que tem uma linha para cada usuário (identificado por `userId`) e uma coluna para cada filme (identificado por `movieId`). O conteúdo da matriz é o *rating* que o usuário atribuiu ao filme. Podemos ignorar a coluna `timestamp`.\n"
   ]
  },
  {
   "cell_type": "code",
   "execution_count": 273,
   "metadata": {},
   "outputs": [],
   "source": [
    "df_matrix = df.to_numpy()"
   ]
  },
  {
   "cell_type": "markdown",
   "metadata": {},
   "source": [
    "\n",
    "## Desafio: eu vou gostar deste filme?\n",
    "\n",
    "O que gostaríamos de saber é qual nota um usuário deveria atribuir a um filme que ele ainda não assistiu. Para isso, o procedimento será o seguinte.\n",
    "\n",
    "1. Vamos escolher aleatoriamente um dos elementos da matriz $A$ e atribuir a ele um valor aleatório, gerando a matriz $B$.\n",
    "1. O sistema receberá como entrada a matriz $B$ e a posição $i,j$ do valor aleatório. Neste momento, ele não teve acesso à matriz $A$, e, portanto, não tem como saber qual é o valor \"real\".\n",
    "1. O sistema deverá retornar o valor real que estava na matriz $A$.\n",
    "1. Esse procedimento deverá ser repetido várias vezes, de forma a gerar um histograma dos erros cometidos.\n"
   ]
  },
  {
   "cell_type": "code",
   "execution_count": 272,
   "metadata": {},
   "outputs": [
    {
     "name": "stdout",
     "output_type": "stream",
     "text": [
      "3.0\n",
      "10.0\n"
     ]
    }
   ],
   "source": [
    "def randomiza_item_matriz(A):\n",
    "    B = copy.deepcopy(A)\n",
    "    r_i = random.randint(0,len(A)-1)\n",
    "    r_j = random.randint(0,len(A[r_i])-1)\n",
    "    r_v = random.randint(0,11)\n",
    "    B[r_i,r_j] = r_v\n",
    "    return B, (r_i,r_j)\n",
    "\n",
    "E, ij = randomiza_item_matriz(df_matrix)\n",
    "\n",
    "print(df_matrix [ij[0], ij[1]])\n",
    "print(E [ij[0], ij[1]])"
   ]
  },
  {
   "attachments": {},
   "cell_type": "markdown",
   "metadata": {},
   "source": [
    "\n",
    "## Como o sistema funciona?\n",
    "\n",
    "A ideia do sistema de recomendação é que existem \"perfis\" típicos de usuários. Os perfis, para este problema, são vetores que mostram que notas são tipicamente atribuídas para cada filme por usuários daquele perfil. Por exemplo, talvez tenhamos dois perfis e três filmes, e nesse caso poderíamos ter os perfis:\n",
    "\n",
    "* $p_0 = [2, 5, 2]$, isto é, o perfil $0$ é de uma pessoa que gosta muito do filme $f_1$, e\n",
    "* $p_1 = [5, 0, 4]$, isto é, o perfil $1$ é de uma pessoa que gosta dos filmes $f_0$ e $f_2$. \n",
    "\n",
    "Porém, sabemos que usuários reais raramente se comportam estritamente como um perfil. As notas realmente atribuídas por um usuário aos filmes, então, são modeladas como combinações lineares dos perfis. Por exemplo, podemos ter usuários:\n",
    "\n",
    "* $u_0 = 0.1 p_0 + 0.9 p_1$, para um usuário muito próximo de $p_1$ mas distante de $p_0$,\n",
    "* $u_1 = 0.1 p_0 + 0.1 p_1$, para um usuário distante tanto de $p_0$ quanto de $p_1$,\n",
    "\n",
    "e assim por diante.\n",
    "\n",
    "Então, o que precisamos é de uma maneira de mapear usuários para perfis, e então perfis para filmes. Precisamos então *decompor* nossa matriz $A$ de usuários $\\times$ filmes em componentes:\n",
    "\n",
    "$\n",
    "A = X Y Z,\n",
    "$\n",
    "\n",
    "onde:\n",
    "* $A$ tem uma linha por usuário e uma coluna por filme."
   ]
  },
  {
   "cell_type": "code",
   "execution_count": 192,
   "metadata": {},
   "outputs": [
    {
     "data": {
      "text/plain": [
       "(671, 9066)"
      ]
     },
     "execution_count": 192,
     "metadata": {},
     "output_type": "execute_result"
    }
   ],
   "source": [
    "df_ = pd.pivot_table(data = df, index = 'userId', columns ='movieId', values = 'rating',aggfunc='mean')\n",
    "df_ = df_.fillna(0)\n",
    "df_.shape"
   ]
  },
  {
   "cell_type": "code",
   "execution_count": 180,
   "metadata": {},
   "outputs": [
    {
     "data": {
      "text/plain": [
       "3.5"
      ]
     },
     "execution_count": 180,
     "metadata": {},
     "output_type": "execute_result"
    }
   ],
   "source": [
    "# df_.iloc[2][44191] teste"
   ]
  },
  {
   "attachments": {},
   "cell_type": "markdown",
   "metadata": {},
   "source": [
    "* $X$ tem uma linha por usuário e uma coluna por perfil,"
   ]
  },
  {
   "cell_type": "code",
   "execution_count": 186,
   "metadata": {},
   "outputs": [
    {
     "data": {
      "text/plain": [
       "(array([[-2.08497408e-03,  3.90537685e-03,  1.49846725e-03, ...,\n",
       "         -1.17534545e-02,  6.93541663e-03, -4.11709486e-03],\n",
       "        [-1.83070824e-02,  6.51418470e-03, -6.63596276e-02, ...,\n",
       "          1.30399324e-02,  1.12489671e-02,  4.87338707e-02],\n",
       "        [-1.50911407e-02, -1.32623643e-02, -1.12356475e-02, ...,\n",
       "         -5.74639451e-03, -1.31503521e-03, -1.64824301e-03],\n",
       "        ...,\n",
       "        [-6.99980178e-03,  1.58302556e-03,  3.86733047e-05, ...,\n",
       "         -5.58604000e-03, -5.03446825e-03,  2.39356104e-03],\n",
       "        [-1.27201885e-02, -1.12626170e-03, -1.50645996e-02, ...,\n",
       "          1.49270024e-02, -2.55571016e-03,  6.44863095e-03],\n",
       "        [-4.02662085e-02, -1.91584071e-02, -3.24647253e-03, ...,\n",
       "         -1.52620874e-03, -5.50592866e-04,  3.23609829e-03]]),\n",
       " array([517.58313979, 243.76943485, 204.30617832, 162.47028777,\n",
       "        156.30956977, 145.23455301, 136.81751883, 122.99256885,\n",
       "        118.74152381, 116.32873458, 111.49367292, 105.79872672,\n",
       "        105.22888405,  99.23143457,  97.28551406,  92.94461751,\n",
       "         92.03785085,  91.66845354,  89.86862678,  88.6199206 ,\n",
       "         87.28696703,  85.49577203,  84.4018213 ,  84.04184504,\n",
       "         82.09439136,  81.97690614,  80.3072336 ,  79.9572191 ,\n",
       "         79.22060121,  78.765595  ,  77.93137263,  77.41399697,\n",
       "         76.41535328,  75.16819208,  75.00607014,  74.52580718,\n",
       "         73.92886524,  73.18212044,  72.6081443 ,  72.37594771,\n",
       "         71.83632747,  71.53824808,  71.15108016,  70.79173171,\n",
       "         70.47873043,  69.36059605,  68.88086787,  68.46729698,\n",
       "         67.902172  ,  67.70890378,  67.55712063,  66.9415601 ,\n",
       "         66.7623694 ,  66.11353385,  65.77593494,  65.09363441,\n",
       "         64.64400521,  64.32314536,  64.0518851 ,  64.01358834,\n",
       "         63.5865328 ,  63.17365423,  62.47363085,  61.9087241 ,\n",
       "         61.63444177,  61.41948003,  61.28280151,  60.89436969,\n",
       "         60.59105502,  60.42439991,  60.30018855,  59.80821365,\n",
       "         59.5290443 ,  59.44255316,  59.05027376,  58.86065301,\n",
       "         58.6254299 ,  58.22061495,  57.96965051,  57.74084364,\n",
       "         57.40533397,  57.25122645,  57.02016939,  56.83540177,\n",
       "         56.64001224,  56.04235834,  55.69427475,  55.58465001,\n",
       "         55.48628936,  55.13535242,  55.03402584,  54.72071954,\n",
       "         54.38482186,  54.00578018,  53.84546311,  53.56834917,\n",
       "         53.39699019,  53.14610076,  52.92024179,  52.82193271,\n",
       "         52.69047302,  52.29229994,  52.22444547,  51.9924188 ,\n",
       "         51.757627  ,  51.61106763,  51.36363752,  51.12331656,\n",
       "         50.84318493,  50.56343621,  50.4723109 ,  50.26148721,\n",
       "         50.15615056,  49.97095808,  49.8204552 ,  49.61557729,\n",
       "         49.52516114,  49.42205845,  49.34157425,  49.07241689,\n",
       "         48.92217506,  48.75442866,  48.61587299,  48.34632101,\n",
       "         48.08406389,  47.89311475,  47.72181149,  47.61948434,\n",
       "         47.40670466,  47.25757959,  47.10180452,  47.04619086,\n",
       "         46.84093111,  46.70369003,  46.53409437,  46.34847171,\n",
       "         46.26381367,  46.10649035,  45.95974964,  45.84672574,\n",
       "         45.61910118,  45.58028336,  45.37964608,  45.27761214,\n",
       "         44.93944884,  44.75832874,  44.6991626 ,  44.59491086,\n",
       "         44.32151728,  44.29515753,  44.17580802,  44.0402459 ,\n",
       "         43.74148842,  43.69879435,  43.490243  ,  43.46642799,\n",
       "         43.1964006 ,  43.03705335,  42.99087112,  42.8103158 ,\n",
       "         42.76563567,  42.49096393,  42.44850735,  42.38286241,\n",
       "         42.10608362,  42.01702979,  41.92705591,  41.73471828,\n",
       "         41.56773871,  41.24954405,  41.15155424,  41.06442682,\n",
       "         41.04281217,  40.98608362,  40.8706412 ,  40.75413048,\n",
       "         40.61443085,  40.43048402,  40.28835421,  40.09551838,\n",
       "         39.92631277,  39.90952289,  39.83757702,  39.58915778,\n",
       "         39.45684432,  39.42136737,  39.21994079,  39.09023573,\n",
       "         39.00236493,  38.8544995 ,  38.81291299,  38.67993819,\n",
       "         38.56029075,  38.37347318,  38.20928854,  38.14996086,\n",
       "         37.97218988,  37.88222363,  37.78117783,  37.63983254,\n",
       "         37.61568619,  37.38778651,  37.15065687,  37.02064631,\n",
       "         36.95973614,  36.90087696,  36.77951286,  36.61340574,\n",
       "         36.52068164,  36.36038356,  36.30281514,  36.21419453,\n",
       "         36.14486635,  35.96597948,  35.89058914,  35.82119013,\n",
       "         35.66947342,  35.53250047,  35.46634935,  35.42283637,\n",
       "         35.28661738,  35.22607934,  35.05902588,  34.89677564,\n",
       "         34.79965044,  34.7407391 ,  34.62544185,  34.54047881,\n",
       "         34.37720889,  34.26819283,  34.19685272,  34.15219431,\n",
       "         34.03886589,  33.92107041,  33.78257405,  33.65640782,\n",
       "         33.62735174,  33.50395998,  33.42202375,  33.27905487,\n",
       "         33.20071852,  33.0419364 ,  33.00151953,  32.88241341,\n",
       "         32.84106677,  32.70337917,  32.60592464,  32.57950617,\n",
       "         32.44168531,  32.36665481,  32.30421158,  32.19415164,\n",
       "         32.15592967,  32.02448016,  31.88486141,  31.84075626,\n",
       "         31.73264351,  31.66324194,  31.58914903,  31.48784227,\n",
       "         31.43410834,  31.29490247,  31.22959394,  31.10363916,\n",
       "         31.03311004,  30.9186359 ,  30.83800908,  30.79339283,\n",
       "         30.59609725,  30.55605487,  30.43888039,  30.38048951,\n",
       "         30.30661813,  30.1831985 ,  30.1155964 ,  30.07968898,\n",
       "         29.97336998,  29.93959546,  29.91307112,  29.77724218,\n",
       "         29.71524699,  29.66867661,  29.57348422,  29.43550904,\n",
       "         29.38857082,  29.3374605 ,  29.17485806,  29.08866672,\n",
       "         29.07106078,  29.03330083,  28.99785407,  28.76280928,\n",
       "         28.61984013,  28.55136985,  28.47112179,  28.42392256,\n",
       "         28.37483792,  28.18956867,  28.16418457,  28.12281508,\n",
       "         28.03659034,  27.98546934,  27.89331679,  27.83231344,\n",
       "         27.78693011,  27.75198801,  27.60616918,  27.50570168,\n",
       "         27.43397955,  27.32560845,  27.2509126 ,  27.20934384,\n",
       "         27.10075962,  27.02591379,  26.88674275,  26.85016459,\n",
       "         26.77148214,  26.71015768,  26.65335557,  26.5835095 ,\n",
       "         26.56779941,  26.46580288,  26.38493464,  26.30455867,\n",
       "         26.25472052,  26.11881193,  26.06861693,  25.98155971,\n",
       "         25.88343418,  25.80045754,  25.77307844,  25.69721368,\n",
       "         25.60472166,  25.52451678,  25.44753263,  25.36222934,\n",
       "         25.32835181,  25.2185347 ,  25.15602818,  25.12072345,\n",
       "         25.05764837,  25.01980298,  24.95012093,  24.84886107,\n",
       "         24.79008047,  24.66067478,  24.63955503,  24.49713767,\n",
       "         24.44333427,  24.32218819,  24.24365398,  24.20873067,\n",
       "         24.10465458,  24.07274244,  23.97311279,  23.91787234,\n",
       "         23.89614737,  23.79689058,  23.75051925,  23.70404733,\n",
       "         23.58778592,  23.54802184,  23.43144181,  23.35859954,\n",
       "         23.3367766 ,  23.31549878,  23.23454775,  23.16680863,\n",
       "         23.08244177,  23.0201977 ,  22.96596428,  22.89657893,\n",
       "         22.83692463,  22.77542425,  22.75306657,  22.670615  ,\n",
       "         22.5815548 ,  22.50884488,  22.48518257,  22.3744225 ,\n",
       "         22.30346388,  22.27822213,  22.15170289,  22.11733884,\n",
       "         21.98640154,  21.94834079,  21.91513503,  21.81884976,\n",
       "         21.74693276,  21.6924425 ,  21.57910728,  21.56054166,\n",
       "         21.49961042,  21.37917777,  21.35203881,  21.29529845,\n",
       "         21.27964377,  21.2481601 ,  21.16916385,  21.05059375,\n",
       "         20.96862508,  20.8718564 ,  20.83091863,  20.76650465,\n",
       "         20.70926348,  20.67385247,  20.59956227,  20.54419695,\n",
       "         20.50797408,  20.44835837,  20.35951289,  20.27126361,\n",
       "         20.22129905,  20.10073876,  20.08890548,  20.07813648,\n",
       "         19.98388061,  19.91883757,  19.8838095 ,  19.8531829 ,\n",
       "         19.7207252 ,  19.70272208,  19.65762487,  19.5233276 ,\n",
       "         19.4660624 ,  19.44286065,  19.42096994,  19.37334107,\n",
       "         19.30525146,  19.25023362,  19.14646707,  19.11229053,\n",
       "         19.07172555,  18.94723508,  18.94277204,  18.88462204,\n",
       "         18.82475561,  18.79951294,  18.70212433,  18.64130457,\n",
       "         18.59606429,  18.55150095,  18.5209703 ,  18.4720994 ,\n",
       "         18.3955085 ,  18.37830025,  18.3190998 ,  18.23927373,\n",
       "         18.17576858,  18.12716624,  18.06249051,  18.00639198,\n",
       "         17.96281312,  17.93361761,  17.90081107,  17.84817373,\n",
       "         17.81614951,  17.75912582,  17.68345449,  17.61933345,\n",
       "         17.5095018 ,  17.45310331,  17.44923787,  17.3720296 ,\n",
       "         17.35810907,  17.28682997,  17.19965005,  17.14812549,\n",
       "         17.07634128,  17.05010616,  16.98734294,  16.93787438,\n",
       "         16.87793847,  16.83048571,  16.77401659,  16.69336239,\n",
       "         16.60367991,  16.58527005,  16.54459274,  16.4909057 ,\n",
       "         16.44594324,  16.42837975,  16.38239396,  16.34804942,\n",
       "         16.27858034,  16.20141899,  16.16396975,  16.13611301,\n",
       "         16.04583467,  16.02193588,  15.98391862,  15.89435914,\n",
       "         15.87273615,  15.83891614,  15.77126008,  15.69224425,\n",
       "         15.60749087,  15.53615151,  15.52375709,  15.45554593,\n",
       "         15.42473881,  15.39666833,  15.35820819,  15.34999651,\n",
       "         15.27552058,  15.22378223,  15.1917761 ,  15.14425882,\n",
       "         15.13392507,  15.01405433,  14.9484133 ,  14.87158559,\n",
       "         14.76811797,  14.75499361,  14.74848993,  14.7096321 ,\n",
       "         14.65153814,  14.60421478,  14.51728112,  14.46078462,\n",
       "         14.44102032,  14.3895249 ,  14.35772469,  14.30205703,\n",
       "         14.24673623,  14.23183303,  14.14510987,  14.10340732,\n",
       "         14.0400303 ,  14.01691561,  13.96734035,  13.92382238,\n",
       "         13.88131706,  13.82349508,  13.77122885,  13.67025107,\n",
       "         13.64544479,  13.57244655,  13.5407535 ,  13.48109809,\n",
       "         13.43634877,  13.40098407,  13.33966987,  13.28728503,\n",
       "         13.25371334,  13.24958574,  13.15722883,  13.1481368 ,\n",
       "         13.07573926,  12.99001029,  12.94179124,  12.89489623,\n",
       "         12.82518772,  12.82241276,  12.77442525,  12.73103664,\n",
       "         12.67620548,  12.59247116,  12.56221183,  12.47569151,\n",
       "         12.41657608,  12.41412292,  12.27625105,  12.27087632,\n",
       "         12.20549214,  12.16331821,  12.12289399,  12.06336917,\n",
       "         12.04138806,  11.94806891,  11.92102021,  11.87449948,\n",
       "         11.80008921,  11.77070626,  11.70577621,  11.67428544,\n",
       "         11.63976129,  11.54751813,  11.47032005,  11.45404353,\n",
       "         11.40657527,  11.36219209,  11.33811594,  11.28798554,\n",
       "         11.23617353,  11.18746979,  11.08798408,  11.02916992,\n",
       "         10.94377836,  10.93684806,  10.82901757,  10.80575667,\n",
       "         10.78399169,  10.72203756,  10.63971697,  10.59623591,\n",
       "         10.49496263,  10.46664974,  10.35928567,  10.33963958,\n",
       "         10.22271283,  10.20416416,  10.07185463,  10.04245965,\n",
       "         10.00408739,   9.96700906,   9.90549915,   9.87322388,\n",
       "          9.81776498,   9.71621117,   9.64308815,   9.60694352,\n",
       "          9.55519731,   9.49739956,   9.40904614,   9.37907648,\n",
       "          9.32707089,   9.2567637 ,   9.24163694,   9.13783672,\n",
       "          9.13334805,   9.12080977,   8.99152298,   8.96749019,\n",
       "          8.9330232 ,   8.79718231,   8.77652871,   8.57163874,\n",
       "          8.51215629,   8.44786831,   8.37372062,   8.32541592,\n",
       "          8.30610242,   8.20339098,   8.13100329,   7.94612817,\n",
       "          7.89586692,   7.82678346,   7.7262495 ,   7.64080545,\n",
       "          7.59476695,   7.52233799,   7.43000552,   7.29623502,\n",
       "          7.27950361,   7.21470399,   7.13383431,   7.03031533,\n",
       "          6.94524657,   6.85427199,   6.69461812,   6.64514019,\n",
       "          6.50058323,   6.31273511,   6.14509099,   6.09390238,\n",
       "          6.06241235,   5.92549524,   5.73188347,   5.29623934,\n",
       "          5.23580718,   5.08229825,   5.01520439,   4.7093786 ,\n",
       "          4.58755671,   4.33328994,   4.22344413,   4.0369403 ,\n",
       "          3.78034267,   3.47902949,   2.70776416]),\n",
       " array([[-7.89608026e-02, -3.21870213e-02, -1.28461428e-02, ...,\n",
       "         -6.10278612e-05, -3.66167167e-05, -1.64855666e-03],\n",
       "        [-3.52425907e-02, -1.52635806e-02,  5.63629358e-03, ...,\n",
       "         -2.54528542e-04, -1.52717125e-04,  3.94405929e-03],\n",
       "        [-5.09072327e-02, -6.43081958e-02, -2.84398301e-02, ...,\n",
       "         -6.24198136e-05, -3.74518881e-05,  9.31325318e-03],\n",
       "        ...,\n",
       "        [ 4.27757284e-04,  1.30975116e-03, -5.58665656e-04, ...,\n",
       "          9.24707819e-01, -4.51753085e-02,  7.06359694e-05],\n",
       "        [ 2.56654370e-04,  7.85850699e-04, -3.35199393e-04, ...,\n",
       "         -4.51753085e-02,  9.72894815e-01,  4.23815816e-05],\n",
       "        [-9.85196619e-05, -1.44225767e-04, -1.46359372e-04, ...,\n",
       "          7.41979538e-05,  4.45187723e-05,  9.98466964e-01]]))"
      ]
     },
     "execution_count": 186,
     "metadata": {},
     "output_type": "execute_result"
    }
   ],
   "source": [
    "X, s,Y = np.linalg.svd(df_)\n",
    "X, s, Y"
   ]
  },
  {
   "cell_type": "code",
   "execution_count": null,
   "metadata": {},
   "outputs": [
    {
     "name": "stdout",
     "output_type": "stream",
     "text": [
      "356       341\n",
      "296       324\n",
      "318       311\n",
      "593       304\n",
      "260       291\n",
      "         ... \n",
      "98604       1\n",
      "103659      1\n",
      "104419      1\n",
      "115927      1\n",
      "6425        1\n",
      "Name: movieId, Length: 9066, dtype: int64 671\n"
     ]
    }
   ],
   "source": [
    "print(len(df[\"movieId\"].value_counts()),len(df[\"userId\"].value_counts()))"
   ]
  },
  {
   "cell_type": "code",
   "execution_count": 191,
   "metadata": {},
   "outputs": [
    {
     "data": {
      "text/plain": [
       "array([[-2.08497408e-03,  3.90537685e-03,  1.49846725e-03, ...,\n",
       "        -1.17534545e-02,  6.93541663e-03, -4.11709486e-03],\n",
       "       [-1.83070824e-02,  6.51418470e-03, -6.63596276e-02, ...,\n",
       "         1.30399324e-02,  1.12489671e-02,  4.87338707e-02],\n",
       "       [-1.50911407e-02, -1.32623643e-02, -1.12356475e-02, ...,\n",
       "        -5.74639451e-03, -1.31503521e-03, -1.64824301e-03],\n",
       "       ...,\n",
       "       [-6.99980178e-03,  1.58302556e-03,  3.86733047e-05, ...,\n",
       "        -5.58604000e-03, -5.03446825e-03,  2.39356104e-03],\n",
       "       [-1.27201885e-02, -1.12626170e-03, -1.50645996e-02, ...,\n",
       "         1.49270024e-02, -2.55571016e-03,  6.44863095e-03],\n",
       "       [-4.02662085e-02, -1.91584071e-02, -3.24647253e-03, ...,\n",
       "        -1.52620874e-03, -5.50592866e-04,  3.23609829e-03]])"
      ]
     },
     "execution_count": 191,
     "metadata": {},
     "output_type": "execute_result"
    }
   ],
   "source": [
    "X"
   ]
  },
  {
   "attachments": {},
   "cell_type": "markdown",
   "metadata": {},
   "source": [
    "* $Y$ é quadrada e mapeia perfis para perfis,"
   ]
  },
  {
   "cell_type": "code",
   "execution_count": 189,
   "metadata": {},
   "outputs": [
    {
     "data": {
      "text/plain": [
       "array([-0.0789608 , -0.01526358, -0.02843983, ...,  0.92470782,\n",
       "        0.97289481,  0.99846696])"
      ]
     },
     "execution_count": 189,
     "metadata": {},
     "output_type": "execute_result"
    }
   ],
   "source": [
    "# Fazer Matriz\n",
    "Y = np.diag(Y)\n",
    "Y"
   ]
  },
  {
   "attachments": {},
   "cell_type": "markdown",
   "metadata": {},
   "source": [
    "* $Z$ tem uma linha por perfil e uma coluna por filme."
   ]
  },
  {
   "cell_type": "code",
   "execution_count": 188,
   "metadata": {},
   "outputs": [
    {
     "data": {
      "text/plain": [
       "array([[-2.08497408e-03, -1.83070824e-02, -1.50911407e-02, ...,\n",
       "        -6.99980178e-03, -1.27201885e-02, -4.02662085e-02],\n",
       "       [ 3.90537685e-03,  6.51418470e-03, -1.32623643e-02, ...,\n",
       "         1.58302556e-03, -1.12626170e-03, -1.91584071e-02],\n",
       "       [ 1.49846725e-03, -6.63596276e-02, -1.12356475e-02, ...,\n",
       "         3.86733047e-05, -1.50645996e-02, -3.24647253e-03],\n",
       "       ...,\n",
       "       [-1.17534545e-02,  1.30399324e-02, -5.74639451e-03, ...,\n",
       "        -5.58604000e-03,  1.49270024e-02, -1.52620874e-03],\n",
       "       [ 6.93541663e-03,  1.12489671e-02, -1.31503521e-03, ...,\n",
       "        -5.03446825e-03, -2.55571016e-03, -5.50592866e-04],\n",
       "       [-4.11709486e-03,  4.87338707e-02, -1.64824301e-03, ...,\n",
       "         2.39356104e-03,  6.44863095e-03,  3.23609829e-03]])"
      ]
     },
     "execution_count": 188,
     "metadata": {},
     "output_type": "execute_result"
    }
   ],
   "source": [
    "# Fazer Matriz\n",
    "Z = X.T\n",
    "Z"
   ]
  },
  {
   "attachments": {},
   "cell_type": "markdown",
   "metadata": {},
   "source": [
    "\n",
    "Isso se parece bastante com algo que já fizemos nesta aula!\n",
    "\n",
    "Em nosso teste, ao aleatorizarmos um elemento da matriz $A$, estamos inserindo ruído. Como poderíamos remover esse ruído?\n",
    "\n",
    "## Descrição do projeto\n",
    "\n",
    "Neste projeto, o grupo deverá fazer um sistema preditor de nota de filmes por usuário, que funciona nas condições que foram citadas no enunciado (temos conhecimento de todo o dataset, exceto do par filme-usuário específico). O sistema projetado deve ser avaliado usando um histograma dos erros ao longo de várias estimativas. O número de estimações deve ser, no mínimo, mil. O projeto deve ser colocado em um repositório GitHub específico.\n",
    "\n",
    "Anotações importantes:\n",
    "\n",
    "1. O grupo deve enviar um link para o repositório GitHub onde está localizada a biblioteca.\n",
    "2. No diretório principal do repositório, deve haver um programa `demo.py`, que, quando executado, executa todos os testes que geram o histograma de resultados.\n",
    "3. Como o objetivo do projeto é exatamente implementar o sistema de recomendação, não é permitido usar bibliotecas que fazem recomendações. Toda a parte de algoritmos e álgebra linear deve ser feita pelo próprio grupo usando Numpy ou Scipy.\n",
    "\n",
    "**ENTREGAS**\n",
    "* Link para o repositório onde está a biblioteca.\n",
    "* No `README.md` do repositório, deve haver uma discussão sobre como o sistema funciona. Essa discussão deve corresponder ao que foi feito no código.\n",
    "* Inclua também, no próprio `README.md`, instruções sobre como rodar o `demo.py` e como usar suas funcionalidades.\n",
    "* O `README.md` também deve ter uma discussão dos resultados encontrados, incluindo o histograma dos erros e uma conclusão, baseada em dados, sobre se o grupo acredita que o sistema proposto poderia ser usado em produção.\n",
    "\n",
    "**RUBRICA**\n",
    "\n",
    "O projeto será avaliado usando três rubricas. [Duas delas dizem respeito à redação e ao código apresentado](rubricas.md), e são compartilhados por todos os projetos. Este projeto tem ainda requisitos específicos que estão na rubrica abaixo. Os níveis são cumulativos, isto é, para passar de um nível, *todos* os requisitos dele devem ser cumpridos. A nota final é baseada na rubrica em que o trabalho obtiver o *menor* desempenho. As rubricas foram inspiradas nos níveis da [Taxonomia de Bloom](https://cft.vanderbilt.edu/guides-sub-pages/blooms-taxonomy/).\n",
    "\n",
    "| Nível | Descrição | [Tax. de Bloom](https://cft.vanderbilt.edu/guides-sub-pages/blooms-taxonomy/) |\n",
    "| --- | --- | --- |\n",
    "| F | Não entregue, entregue sem completar o `README.md`, entregue sem o `demo.py`, entregue sem resolver o problema que foi proposto, ou usando bibliotecas que resolvem o problema central do enunciado.  | Não fez |\n",
    "| D | Entregue, mas o `README.md` não indica como instalar ou rodar o programa, ou o programa usa a matriz $A$ (sem ruído) como entrada ao invés da matriz $B$. | Entender |\n",
    "| C | Devido a um erro de implementação ou de teoria, o sistema não retorna um valor coerente para o elemento faltante, isto é, simplesmente retorna um valor qualquer, aleatório, ou calculado sem base teórica adequada. | Compreender |\n",
    "| B | O método foi aplicado corretamente. | Aplicar |\n",
    "| A | Além da aplicação correta do método, o grupo realizou um teste de stress (devidamente documentado no README.md), verificando como o histograma de erro se comporta se mais dados da matriz de entrada forem \"estragados\". | Analisar |"
   ]
  },
  {
   "attachments": {},
   "cell_type": "markdown",
   "metadata": {},
   "source": [
    "# "
   ]
  }
 ],
 "metadata": {
  "kernelspec": {
   "display_name": "base",
   "language": "python",
   "name": "python3"
  },
  "language_info": {
   "codemirror_mode": {
    "name": "ipython",
    "version": 3
   },
   "file_extension": ".py",
   "mimetype": "text/x-python",
   "name": "python",
   "nbconvert_exporter": "python",
   "pygments_lexer": "ipython3",
   "version": "3.10.3"
  },
  "orig_nbformat": 4,
  "vscode": {
   "interpreter": {
    "hash": "42e34ec1a81382d7a35a13fd98192c35dabe0890684b7b0a474deec672e3df02"
   }
  }
 },
 "nbformat": 4,
 "nbformat_minor": 2
}
