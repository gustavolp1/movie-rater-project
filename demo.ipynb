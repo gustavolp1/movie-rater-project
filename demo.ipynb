{
 "cells": [
  {
   "cell_type": "code",
   "execution_count": 3,
   "metadata": {},
   "outputs": [
    {
     "name": "stderr",
     "output_type": "stream",
     "text": [
      "c:\\Users\\Pedro Antônio Silva\\AppData\\Local\\Programs\\Python\\Python310\\lib\\site-packages\\scipy\\__init__.py:146: UserWarning: A NumPy version >=1.16.5 and <1.23.0 is required for this version of SciPy (detected version 1.24.2\n",
      "  warnings.warn(f\"A NumPy version >={np_minversion} and <{np_maxversion}\"\n"
     ]
    }
   ],
   "source": [
    "import numpy as np\n",
    "import matplotlib.pyplot as plt\n",
    "import pandas as pd\n",
    "import random\n",
    "import copy\n",
    "from scipy.linalg import svd, diagsvd"
   ]
  },
  {
   "cell_type": "code",
   "execution_count": 4,
   "metadata": {},
   "outputs": [
    {
     "data": {
      "text/plain": [
       "(671, 9066)"
      ]
     },
     "execution_count": 4,
     "metadata": {},
     "output_type": "execute_result"
    }
   ],
   "source": [
    "df = pd.read_csv('ratings_small.csv')\n",
    "df = df.loc[:, df.columns != 'timestamp']\n",
    "\n",
    "df_ = pd.pivot_table(data = df, index = 'userId', columns ='movieId', values = 'rating',aggfunc='mean')\n",
    "df_ = (df_.fillna(0)).to_numpy()\n",
    "df_.shape"
   ]
  },
  {
   "cell_type": "code",
   "execution_count": 16,
   "metadata": {},
   "outputs": [],
   "source": [
    "def randomiza_item_matriz(A):\n",
    "    B = copy.deepcopy(A)\n",
    "    while True:\n",
    "        r_i = random.randint(0,len(A)-1)\n",
    "        r_j = random.randint(0,len(A[r_i])-1)\n",
    "        if (A[r_i][r_j])!=0:\n",
    "            r_v = random.randint(0,10)\n",
    "            B[r_i,r_j] = r_v\n",
    "            return B, (r_i,r_j)\n"
   ]
  },
  {
   "cell_type": "code",
   "execution_count": 10,
   "metadata": {},
   "outputs": [],
   "source": [
    "def estima_valor(X, s, Y):\n",
    "    s[200:] *= 0 # VALOR DE K\n",
    "    S = X @ diagsvd(s, df_.shape[0], df_.shape[1]) @ Y\n",
    "    return S"
   ]
  },
  {
   "cell_type": "code",
   "execution_count": 7,
   "metadata": {},
   "outputs": [],
   "source": [
    "U,s,vt = np.linalg.svd(df_)"
   ]
  },
  {
   "cell_type": "code",
   "execution_count": 8,
   "metadata": {},
   "outputs": [
    {
     "data": {
      "image/png": "[encoded data removed]",
      "text/plain": [
       "<Figure size 432x288 with 1 Axes>"
      ]
     },
     "metadata": {
      "needs_background": "light"
     },
     "output_type": "display_data"
    }
   ],
   "source": [
    "plt.figure()\n",
    "plt.plot(s[1:])\n",
    "plt.show()"
   ]
  },
  {
   "cell_type": "code",
   "execution_count": 19,
   "metadata": {},
   "outputs": [
    {
     "name": "stdout",
     "output_type": "stream",
     "text": [
      "3.5 9.0 5.38327440281093\n"
     ]
    }
   ],
   "source": [
    "B, pos = randomiza_item_matriz(df_)\n",
    "X, s, Y = np.linalg.svd(B)\n",
    "S = estima_valor(X,s,Y)\n",
    "\n",
    "print(df_[pos],B[pos],abs(S[pos]))"
   ]
  },
  {
   "cell_type": "code",
   "execution_count": 20,
   "metadata": {},
   "outputs": [],
   "source": [
    "erros = []\n",
    "for i in range(1000):\n",
    "    B, pos = randomiza_item_matriz(df_)\n",
    "    X, s, Y = np.linalg.svd(B)\n",
    "    S = estima_valor(X,s,Y)\n",
    "\n",
    "    erro = df_[pos] - S[pos]\n",
    "    erros.append(erro)\n",
    "erros = pd.DataFrame(erros)\n",
    "erros.to_csv('erros.csv', index=False)"
   ]
  }
 ],
 "metadata": {
  "kernelspec": {
   "display_name": "Python 3",
   "language": "python",
   "name": "python3"
  },
  "language_info": {
   "codemirror_mode": {
    "name": "ipython",
    "version": 3
   },
   "file_extension": ".py",
   "mimetype": "text/x-python",
   "name": "python",
   "nbconvert_exporter": "python",
   "pygments_lexer": "ipython3",
   "version": "3.10.3"
  },
  "orig_nbformat": 4
 },
 "nbformat": 4,
 "nbformat_minor": 2
}
