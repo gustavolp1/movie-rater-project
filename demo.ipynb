{
 "cells": [
  {
   "cell_type": "code",
   "execution_count": 27,
   "metadata": {},
   "outputs": [],
   "source": [
    "import numpy as np\n",
    "import matplotlib.pyplot as plt\n",
    "import pandas as pd\n",
    "import random\n",
    "import copy\n",
    "from scipy.linalg import svd, diagsvd"
   ]
  },
  {
   "cell_type": "code",
   "execution_count": 28,
   "metadata": {},
   "outputs": [],
   "source": [
    "import pandas as pd\n",
    "df = pd.read_csv('ratings_small.csv')\n",
    "df = df.loc[:, df.columns != 'timestamp']\n",
    "df_matrix = df.to_numpy()"
   ]
  },
  {
   "cell_type": "code",
   "execution_count": 29,
   "metadata": {},
   "outputs": [
    {
     "name": "stdout",
     "output_type": "stream",
     "text": [
      "8961.0\n",
      "8.0\n"
     ]
    }
   ],
   "source": [
    "def randomiza_item_matriz(A):\n",
    "    B = copy.deepcopy(A)\n",
    "    r_i = random.randint(0,len(A)-1)\n",
    "    r_j = random.randint(0,len(A[r_i])-1)\n",
    "    r_v = random.randint(0,11)\n",
    "    B[r_i,r_j] = r_v\n",
    "    return B, (r_i,r_j)\n",
    "\n",
    "E, ij = randomiza_item_matriz(df_matrix)\n",
    "\n",
    "print(df_matrix [ij[0], ij[1]])\n",
    "print(E [ij[0], ij[1]])"
   ]
  },
  {
   "cell_type": "code",
   "execution_count": 30,
   "metadata": {},
   "outputs": [
    {
     "data": {
      "text/plain": [
       "(671, 9066)"
      ]
     },
     "execution_count": 30,
     "metadata": {},
     "output_type": "execute_result"
    }
   ],
   "source": [
    "# preparando a matriz A\n",
    "df_ = pd.pivot_table(data = df, index = 'userId', columns ='movieId', values = 'rating',aggfunc='mean')\n",
    "df_ = df_.fillna(0)\n",
    "df_.shape"
   ]
  },
  {
   "cell_type": "code",
   "execution_count": 31,
   "metadata": {},
   "outputs": [],
   "source": [
    "X, s, Y = np.linalg.svd(df_)"
   ]
  },
  {
   "cell_type": "code",
   "execution_count": 41,
   "metadata": {},
   "outputs": [
    {
     "data": {
      "image/png": "[encoded data removed]",
      "text/plain": [
       "<Figure size 432x288 with 1 Axes>"
      ]
     },
     "metadata": {
      "needs_background": "light"
     },
     "output_type": "display_data"
    }
   ],
   "source": [
    "x = X - np.mean(X, axis=0, keepdims=True) # Linha 2\n",
    "\n",
    "C = x.T @ x\n",
    "C /= x.shape[0]-1\n",
    "w, v = np.linalg.eig(C)\n",
    "v0 = v[:,0]\n",
    "v1 = v[:,1]\n",
    "\n",
    "t = np.linspace(-1,1,100)\n",
    "p = [t[i] * v1 for i in range(100)]\n",
    "p = np.array(p)\n",
    "p.shape\n",
    "\n",
    "plt.figure()\n",
    "plt.scatter(x[:,0],x[:,1])\n",
    "plt.plot(4*p[:,0],4*p[:,1])\n",
    "plt.show()"
   ]
  }
 ],
 "metadata": {
  "kernelspec": {
   "display_name": "Python 3",
   "language": "python",
   "name": "python3"
  },
  "language_info": {
   "codemirror_mode": {
    "name": "ipython",
    "version": 3
   },
   "file_extension": ".py",
   "mimetype": "text/x-python",
   "name": "python",
   "nbconvert_exporter": "python",
   "pygments_lexer": "ipython3",
   "version": "3.10.3"
  },
  "orig_nbformat": 4
 },
 "nbformat": 4,
 "nbformat_minor": 2
}
