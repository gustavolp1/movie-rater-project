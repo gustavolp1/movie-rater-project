{
 "cells": [
  {
   "cell_type": "code",
   "execution_count": 1,
   "metadata": {},
   "outputs": [
    {
     "name": "stderr",
     "output_type": "stream",
     "text": [
      "c:\\Users\\Pedro Antônio Silva\\AppData\\Local\\Programs\\Python\\Python310\\lib\\site-packages\\scipy\\__init__.py:146: UserWarning: A NumPy version >=1.16.5 and <1.23.0 is required for this version of SciPy (detected version 1.24.2\n",
      "  warnings.warn(f\"A NumPy version >={np_minversion} and <{np_maxversion}\"\n"
     ]
    }
   ],
   "source": [
    "import numpy as np\n",
    "import matplotlib.pyplot as plt\n",
    "import pandas as pd\n",
    "import random\n",
    "import copy\n",
    "from scipy.linalg import svd, diagsvd"
   ]
  },
  {
   "cell_type": "code",
   "execution_count": 2,
   "metadata": {},
   "outputs": [],
   "source": [
    "# lendo ratings.csv\n",
    "df = pd.read_csv('ratings_small.csv')\n",
    "df = df.loc[:, df.columns != 'timestamp']\n",
    "# Criando matriz A\n",
    "A = pd.pivot_table(data = df, index = 'userId', columns ='movieId', values = 'rating',aggfunc='mean')\n",
    "A = (A.fillna(0)).to_numpy()"
   ]
  },
  {
   "cell_type": "code",
   "execution_count": 3,
   "metadata": {},
   "outputs": [],
   "source": [
    "def randomiza_item_matriz(A):\n",
    "    B = copy.deepcopy(A)\n",
    "    while True:\n",
    "        r_i = random.randint(0,len(A)-1)\n",
    "        r_j = random.randint(0,len(A[r_i])-1)\n",
    "        if (A[r_i][r_j])!=0:\n",
    "            r_v = random.randint(0,10)\n",
    "            B[r_i,r_j] = r_v\n",
    "            return B, (r_i,r_j)\n"
   ]
  },
  {
   "cell_type": "code",
   "execution_count": 5,
   "metadata": {},
   "outputs": [],
   "source": [
    "U,s,vt = np.linalg.svd(A)"
   ]
  },
  {
   "cell_type": "code",
   "execution_count": 6,
   "metadata": {},
   "outputs": [
    {
     "data": {
      "image/png": "[encoded data removed]",
      "text/plain": [
       "<Figure size 432x288 with 1 Axes>"
      ]
     },
     "metadata": {
      "needs_background": "light"
     },
     "output_type": "display_data"
    }
   ],
   "source": [
    "plt.figure()\n",
    "plt.plot(s)\n",
    "plt.show()"
   ]
  },
  {
   "cell_type": "code",
   "execution_count": 9,
   "metadata": {},
   "outputs": [],
   "source": [
    "def estima_valor(X, s, Y,K):\n",
    "    s[K:] *= 0\n",
    "    S = X @ diagsvd(s, A.shape[0], A.shape[1]) @ Y\n",
    "    return S"
   ]
  },
  {
   "attachments": {},
   "cell_type": "markdown",
   "metadata": {},
   "source": [
    "-   ### Escolha do K:\n",
    "decidimos estabelecer nosso corte de autovalores em K = 200, visto que ao observarmos o gráfico percebemos que os auto-valores e auto-vetores relacionados além dos 200 primeiros têm pouca menos relevância para a estimativa final "
   ]
  },
  {
   "cell_type": "code",
   "execution_count": null,
   "metadata": {},
   "outputs": [],
   "source": [
    "# erros = []\n",
    "# for i in range(1000):\n",
    "#     B, pos = randomiza_item_matriz(df_)\n",
    "#     X, s, Y = np.linalg.svd(B)\n",
    "#     S = estima_valor(X,s,Y)\n",
    "\n",
    "#     erro = df_[pos] - S[pos]\n",
    "#     erros.append(erro)\n",
    "\n",
    "# erros = pd.DataFrame(erros)\n",
    "# erros.to_csv('erros.csv', index=False)"
   ]
  },
  {
   "cell_type": "code",
   "execution_count": 18,
   "metadata": {},
   "outputs": [
    {
     "data": {
      "text/plain": [
       "-0.0707686665"
      ]
     },
     "execution_count": 18,
     "metadata": {},
     "output_type": "execute_result"
    }
   ],
   "source": [
    "dfe=pd.read_csv(\"erros.csv\")\n",
    "dfe['erros'].median()"
   ]
  },
  {
   "cell_type": "code",
   "execution_count": 17,
   "metadata": {},
   "outputs": [],
   "source": [
    "# # Teste de Stress\n",
    "\n",
    "# erros = []\n",
    "# for i in range(1):\n",
    "#     B = A\n",
    "#     posicoes = []\n",
    "#     for i in range(1000):\n",
    "#         B, pos = randomiza_item_matriz(B)\n",
    "#         posicoes.append(pos)\n",
    "\n",
    "#     X, s, Y = np.linalg.svd(B)\n",
    "#     S = estima_valor(X,s,Y)\n",
    "#     for pos in posicoes:\n",
    "#         erro = A[pos] - S[pos]\n",
    "#         erros.append(erro)\n",
    "\n",
    "# erros = pd.DataFrame(erros)\n",
    "# erros.to_csv('errosStress1000.csv', index=False)"
   ]
  },
  {
   "cell_type": "code",
   "execution_count": 17,
   "metadata": {},
   "outputs": [
    {
     "data": {
      "text/plain": [
       "0   -0.463396\n",
       "dtype: float64"
      ]
     },
     "execution_count": 17,
     "metadata": {},
     "output_type": "execute_result"
    }
   ],
   "source": [
    "dfe1000 = pd.read_csv('errosStress1000.csv')\n",
    "dfe1000.mean()"
   ]
  },
  {
   "cell_type": "code",
   "execution_count": 22,
   "metadata": {},
   "outputs": [],
   "source": [
    "# # Teste de Stress\n",
    "\n",
    "# erros = []\n",
    "# for i in range(1):\n",
    "#     B = A\n",
    "#     posicoes = []\n",
    "#     for i in range(int(100004/2)):\n",
    "#         B, pos = randomiza_item_matriz(B)\n",
    "#         posicoes.append(pos)\n",
    "\n",
    "#     X, s, Y = np.linalg.svd(B)\n",
    "#     S = estima_valor(X,s,Y)\n",
    "#     for pos in posicoes:\n",
    "#         erro = A[pos] - S[pos]\n",
    "#         erros.append(erro)\n",
    "\n",
    "# erros = pd.DataFrame(erros)\n",
    "# erros.to_csv(f'errosStress{int(100004/2)}.csv', index=False)"
   ]
  },
  {
   "cell_type": "code",
   "execution_count": 16,
   "metadata": {},
   "outputs": [
    {
     "data": {
      "text/plain": [
       "0   -0.49033\n",
       "dtype: float64"
      ]
     },
     "execution_count": 16,
     "metadata": {},
     "output_type": "execute_result"
    }
   ],
   "source": [
    "dfef50002 = pd.read_csv(f'errosStress{int(100004/2)}.csv')\n",
    "dfef50002.mean()"
   ]
  },
  {
   "cell_type": "code",
   "execution_count": 10,
   "metadata": {},
   "outputs": [],
   "source": [
    "# Teste de Stress\n",
    "df_K10_erros = []\n",
    "df_K50_erros = []\n",
    "df_K100_erros = []\n",
    "df_K200_erros = []\n",
    "for i in range(10):\n",
    "    B = A\n",
    "    posicoes = []\n",
    "    for i in range(1):\n",
    "        B, pos = randomiza_item_matriz(B)\n",
    "        posicoes.append(pos)\n",
    "\n",
    "    X, s, Y = np.linalg.svd(B)\n",
    "    k10 = estima_valor(X,s,Y,10)\n",
    "    k50 = estima_valor(X,s,Y,50)\n",
    "    k100 = estima_valor(X,s,Y,100)\n",
    "    k200 = estima_valor(X,s,Y,200)\n",
    "\n",
    "\n",
    "    for pos in posicoes:\n",
    "        df_K200_erro = A[pos] - k200[pos]\n",
    "        df_K200_erros.append(df_K200_erro)\n",
    "\n",
    "        df_K100_erro = A[pos] - k100[pos]\n",
    "        df_K100_erros.append(df_K100_erro)\n",
    "\n",
    "        df_K50_erro = A[pos] - k50[pos]\n",
    "        df_K50_erros.append(df_K50_erro)\n",
    "\n",
    "        df_K10_erro = A[pos] - k10[pos]\n",
    "        df_K10_erros.append(df_K10_erro)\n",
    "\n",
    "        errosK200 = pd.DataFrame(df_K200_erros)\n",
    "        errosK200.to_csv(f'errosK200.csv', index=False)\n",
    "\n",
    "        errosK100 = pd.DataFrame(df_K100_erros)\n",
    "        errosK100.to_csv(f'errosK100.csv', index=False)\n",
    "\n",
    "        errosK50 = pd.DataFrame(df_K50_erros)\n",
    "        errosK50.to_csv(f'errosK50.csv', index=False)\n",
    "        \n",
    "        errosK10 = pd.DataFrame(df_K10_erros)\n",
    "        errosK10.to_csv(f'errosK10.csv', index=False)"
   ]
  },
  {
   "cell_type": "code",
   "execution_count": 11,
   "metadata": {},
   "outputs": [
    {
     "name": "stdout",
     "output_type": "stream",
     "text": [
      "k200 : 0    0.319318\n",
      "dtype: float64\n",
      "k100 : 0    0.319318\n",
      "dtype: float64\n",
      "k50 : 0    0.319318\n",
      "dtype: float64\n",
      "k10 : 0    0.319318\n",
      "dtype: float64\n"
     ]
    }
   ],
   "source": [
    "print(f'k200 : {pd.read_csv(\"errosK200.csv\").mean()}')\n",
    "print(f'k100 : {pd.read_csv(\"errosK100.csv\").mean()}')\n",
    "print(f'k50 : {pd.read_csv(\"errosK50.csv\").mean()}')\n",
    "print(f'k10 : {pd.read_csv(\"errosK10.csv\").mean()}')"
   ]
  }
 ],
 "metadata": {
  "kernelspec": {
   "display_name": "Python 3",
   "language": "python",
   "name": "python3"
  },
  "language_info": {
   "codemirror_mode": {
    "name": "ipython",
    "version": 3
   },
   "file_extension": ".py",
   "mimetype": "text/x-python",
   "name": "python",
   "nbconvert_exporter": "python",
   "pygments_lexer": "ipython3",
   "version": "3.10.3"
  },
  "orig_nbformat": 4
 },
 "nbformat": 4,
 "nbformat_minor": 2
}
